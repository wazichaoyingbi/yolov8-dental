{
 "cells": [
  {
   "cell_type": "markdown",
   "id": "e1539d60",
   "metadata": {},
   "source": [
    "# YOLOv8 牙齿检测 Demo"
   ]
  },
  {
   "cell_type": "markdown",
   "id": "4f40eec3",
   "metadata": {},
   "source": [
    "1. 测试集中单张图片检测效果【真实标签 vs 模型预测】\n",
    "\n",
    "- 绿色框 --> 真实标签\n",
    "- 红色框 --> 模型预测"
   ]
  },
  {
   "cell_type": "code",
   "execution_count": null,
   "id": "0702fbb1",
   "metadata": {},
   "outputs": [],
   "source": [
    "# 配置参数\n",
    "\n",
    "# 1. 训练好的模型路径\n",
    "MODEL_PATH = \"./outputs/dentalai/train_yolov8n_2ep_2025_08_14_09_14_07/weights/best.pt\"\n",
    "\n",
    "# 2. 要检测的图片路径  \n",
    "IMAGE_PATH = \"./preprocessed_datasets/dentalai/test/images/1012_jpg.rf.8ed3d51db93a4be67e7083ed329c6039.jpg\"\n",
    "\n",
    "# 导入库\n",
    "import os\n",
    "import sys\n",
    "sys.path.append('..')  # 添加上级目录到路径中\n",
    "from utils.demo_utils import DentalDetectionDemo, find_data_yaml\n",
    "\n",
    "# 自动推导数据配置文件\n",
    "DATA_YAML = find_data_yaml(IMAGE_PATH)\n",
    "\n",
    "print(f\"模型路径: {MODEL_PATH}\")\n",
    "print(f\"图片路径: {IMAGE_PATH}\")\n",
    "\n",
    "# 检查文件存在性\n",
    "if not os.path.exists(MODEL_PATH):\n",
    "    print(f\"错误: 模型文件不存在\")\n",
    "    raise FileNotFoundError(f\"模型文件不存在: {MODEL_PATH}\")\n",
    "elif not os.path.exists(IMAGE_PATH):\n",
    "    print(f\"错误: 图片文件不存在\")\n",
    "    raise FileNotFoundError(f\"图片文件不存在: {IMAGE_PATH}\")\n",
    "else:\n",
    "    print(\"所有文件存在，准备开始检测！\")\n",
    "\n",
    "# 初始化检测工具\n",
    "demo = DentalDetectionDemo(MODEL_PATH, DATA_YAML)\n",
    "\n",
    "# 运行检测和可视化\n",
    "analysis_result = demo.visualize_detection(IMAGE_PATH)"
   ]
  },
  {
   "cell_type": "markdown",
   "id": "ccff7ece",
   "metadata": {},
   "source": [
    "2. 任意单张图片检测效果【模型预测】\n",
    "\n",
    "- 红色框 --> 模型预测"
   ]
  },
  {
   "cell_type": "code",
   "execution_count": null,
   "id": "1cd93666",
   "metadata": {},
   "outputs": [],
   "source": [
    "# 配置参数\n",
    "\n",
    "# 1. 训练好的模型路径\n",
    "MODEL_PATH = \"./outputs/dentalai/train_yolov8n_2ep_2025_08_14_09_14_07/weights/best.pt\"\n",
    "\n",
    "# 2. 要检测的图片路径\n",
    "IMAGE_PATH = \"./preprocessed_datasets/dentalai/test/images/103_jpg.rf.8ce6d1e50ce178132fc20124134d4afd.jpg\"\n",
    "\n",
    "# 导入库\n",
    "import os\n",
    "import sys\n",
    "sys.path.append('..')  # 添加上级目录到路径中\n",
    "from utils.demo_utils import DentalDetectionDemo\n",
    "\n",
    "print(f\"模型路径: {MODEL_PATH}\")\n",
    "print(f\"图片路径: {IMAGE_PATH}\")\n",
    "\n",
    "# 检查文件存在性\n",
    "if not os.path.exists(MODEL_PATH):\n",
    "    print(f\"错误: 模型文件不存在\")\n",
    "    raise FileNotFoundError(f\"模型文件不存在: {MODEL_PATH}\")\n",
    "elif not os.path.exists(IMAGE_PATH):\n",
    "    print(f\"错误: 图片文件不存在\")\n",
    "    raise FileNotFoundError(f\"图片文件不存在: {IMAGE_PATH}\")\n",
    "else:\n",
    "    print(\"所有文件存在，准备开始检测！\")\n",
    "\n",
    "# 初始化检测工具\n",
    "demo = DentalDetectionDemo(MODEL_PATH, DATA_YAML)\n",
    "\n",
    "# 运行检测（仅预测，无真实标签对比）\n",
    "demo.predict_only(IMAGE_PATH)"
   ]
  }
 ],
 "metadata": {
  "kernelspec": {
   "display_name": "yolov8_teeth",
   "language": "python",
   "name": "python3"
  },
  "language_info": {
   "codemirror_mode": {
    "name": "ipython",
    "version": 3
   },
   "file_extension": ".py",
   "mimetype": "text/x-python",
   "name": "python",
   "nbconvert_exporter": "python",
   "pygments_lexer": "ipython3",
   "version": "3.9.23"
  }
 },
 "nbformat": 4,
 "nbformat_minor": 5
}
